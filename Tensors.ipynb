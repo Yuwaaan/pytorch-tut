{
 "cells": [
  {
   "cell_type": "markdown",
   "id": "2cff9f04-fdeb-4758-9db8-3bd7963bfa3e",
   "metadata": {},
   "source": [
    "## Tensors"
   ]
  },
  {
   "cell_type": "markdown",
   "id": "4b4e40bd-5f2c-4c26-86c9-0a5fcfc8a5a4",
   "metadata": {},
   "source": [
    "A tensor on PyTorch has three attributes:\n",
    "\n",
    "+ shape: the size of the tensor\n",
    "+ data type: the type of data stored in the tensor\n",
    "+ device: the device in which the tensor is stored"
   ]
  },
  {
   "cell_type": "code",
   "execution_count": 1,
   "id": "0e046fee-02d5-4c70-86ab-4310c00a9644",
   "metadata": {},
   "outputs": [
    {
     "name": "stdout",
     "output_type": "stream",
     "text": [
      "2.2.1+cu121\n",
      "Current GPU: NVIDIA GeForce RTX 4060 Laptop GPU\n"
     ]
    }
   ],
   "source": [
    "import torch\n",
    "import numpy as np\n",
    "\n",
    "print(torch.__version__)\n",
    "\n",
    "\n",
    "if torch.cuda.is_available():\n",
    "    device = torch.cuda.get_device_name(0)\n",
    "    print(\"Current GPU:\", device)\n",
    "else:\n",
    "    print(\"GPU is not available.\")\n"
   ]
  },
  {
   "cell_type": "markdown",
   "id": "df21f63c-fa5a-4e9d-ad77-43229252fc8b",
   "metadata": {},
   "source": [
    "**Initializing a Tensor**"
   ]
  },
  {
   "cell_type": "code",
   "execution_count": 2,
   "id": "989f7d41-9f38-45ed-a797-a9106ab4361c",
   "metadata": {},
   "outputs": [
    {
     "data": {
      "text/plain": [
       "tensor([[1, 2],\n",
       "        [3, 4]], device='cuda:0')"
      ]
     },
     "execution_count": 2,
     "metadata": {},
     "output_type": "execute_result"
    }
   ],
   "source": [
    "# 1.Directly from data\n",
    "t = torch.tensor([[1, 2], [3, 4]]).cuda()\n",
    "t"
   ]
  },
  {
   "cell_type": "code",
   "execution_count": 4,
   "id": "9ba86e14-008c-4faa-be14-3b53f6b1e8b1",
   "metadata": {},
   "outputs": [
    {
     "data": {
      "text/plain": [
       "0"
      ]
     },
     "execution_count": 4,
     "metadata": {},
     "output_type": "execute_result"
    }
   ],
   "source": [
    "scalar = torch.tensor(7)\n",
    "scalar.ndim"
   ]
  },
  {
   "cell_type": "code",
   "execution_count": 36,
   "id": "74b99856-aac4-4e9b-822a-308563a17c32",
   "metadata": {},
   "outputs": [
    {
     "data": {
      "text/plain": [
       "tensor([0, 1, 2], device='cuda:0', dtype=torch.int32)"
      ]
     },
     "execution_count": 36,
     "metadata": {},
     "output_type": "execute_result"
    }
   ],
   "source": [
    "# 2.From a NumPy array\n",
    "ndarray = np.array([0, 1, 2])\n",
    "t = torch.from_numpy(ndarray).cuda()\n",
    "t"
   ]
  },
  {
   "cell_type": "code",
   "execution_count": 46,
   "id": "51873e3d-16b1-4e31-bf59-22d2a2e257c1",
   "metadata": {},
   "outputs": [
    {
     "name": "stdout",
     "output_type": "stream",
     "text": [
      "Ones Tensor: \n",
      " tensor([[0, 0],\n",
      "        [0, 0]], device='cuda:0') \n",
      "\n",
      "Random Tensor: \n",
      " tensor([[0.8177, 0.1977],\n",
      "        [0.7202, 0.0898]], device='cuda:0') \n",
      "\n"
     ]
    }
   ],
   "source": [
    "# 3.From another tensor\n",
    "x_data = torch.tensor([[1, 2], [3, 4]]).cuda()\n",
    "x_ones = torch.ones_like(x_data) # retains the properties of x_data\n",
    "print(f\"Ones Tensor: \\n {x_ones} \\n\")\n",
    "\n",
    "x_rand = torch.rand_like(x_data, dtype=torch.float) # overrides the datatype of x_data\n",
    "print(f\"Random Tensor: \\n {x_rand} \\n\")"
   ]
  },
  {
   "cell_type": "code",
   "execution_count": 43,
   "id": "2458929d-c067-41b3-a5ef-9ab42e2265d5",
   "metadata": {},
   "outputs": [
    {
     "data": {
      "text/plain": [
       "tensor([[0.7703, 0.0066, 0.2875],\n",
       "        [0.8999, 0.2358, 0.3046]])"
      ]
     },
     "execution_count": 43,
     "metadata": {},
     "output_type": "execute_result"
    }
   ],
   "source": [
    "# 4. With random or constant values\n",
    "shape = (2,3)\n",
    "rand_tensor = torch.rand(shape)\n",
    "ones_tensor = torch.ones(shape)\n",
    "zeros_tensor = torch.zeros(shape)\n",
    "rand_tensor"
   ]
  },
  {
   "cell_type": "code",
   "execution_count": 131,
   "id": "0f8ba524-b5eb-45de-aece-82b46ac7a046",
   "metadata": {},
   "outputs": [
    {
     "data": {
      "text/plain": [
       "tensor([[0, 1, 2, 3, 4],\n",
       "        [5, 6, 7, 8, 9]])"
      ]
     },
     "execution_count": 131,
     "metadata": {},
     "output_type": "execute_result"
    }
   ],
   "source": [
    "torch.arange(10).reshape((2, 5))\n",
    "torch.arange(10).reshape((2, -1))"
   ]
  },
  {
   "cell_type": "markdown",
   "id": "2ec53b9c-daad-48de-9951-cc970a3b4e60",
   "metadata": {},
   "source": [
    "**Attributes of a Tensor**"
   ]
  },
  {
   "cell_type": "code",
   "execution_count": 40,
   "id": "0c792eb3-f7f8-4c85-ade1-4bd2cb3afe9a",
   "metadata": {},
   "outputs": [
    {
     "name": "stdout",
     "output_type": "stream",
     "text": [
      "Shape of tensor: torch.Size([3, 4])\n",
      "Datatype of tensor: torch.float32\n",
      "Device tensor is stored on: cuda:0\n"
     ]
    }
   ],
   "source": [
    "tensor = torch.rand(3,4).cuda()\n",
    "\n",
    "print(f\"Shape of tensor: {tensor.shape}\")\n",
    "print(f\"Datatype of tensor: {tensor.dtype}\")\n",
    "print(f\"Device tensor is stored on: {tensor.device}\")"
   ]
  },
  {
   "cell_type": "markdown",
   "id": "51260de8-7ecb-480c-9376-0d0a5577e846",
   "metadata": {},
   "source": [
    "### Operations on Tensors"
   ]
  },
  {
   "cell_type": "markdown",
   "id": "ecdf5a71-8146-47f1-9ce4-9257c322b658",
   "metadata": {},
   "source": [
    "**1. Standard numpy-like indexing and slicing:**"
   ]
  },
  {
   "cell_type": "code",
   "execution_count": 4,
   "id": "9787baa9-19ef-4049-8611-496b3ebd5032",
   "metadata": {
    "scrolled": true
   },
   "outputs": [
    {
     "name": "stdout",
     "output_type": "stream",
     "text": [
      "First row: tensor([1, 2, 3], dtype=torch.int32)\n",
      "First column: tensor([1, 3, 4], dtype=torch.int32)\n",
      "Second column: tensor([3, 4, 5], dtype=torch.int32)\n",
      "Last column: tensor([3, 5, 6], dtype=torch.int32)\n",
      "tensor([[1, 0, 3],\n",
      "        [3, 0, 5],\n",
      "        [4, 0, 6]], dtype=torch.int32)\n"
     ]
    }
   ],
   "source": [
    "tensor = torch.ones(4, 5, 2)\n",
    "\n",
    "# a = np.array([[1,2,3],[3,4,5],[4,5,6]])  \n",
    "# tensor = torch.from_numpy(a)\n",
    "\n",
    "print(f\"First row: {tensor[0]}\")\n",
    "print(f\"First column: {tensor[:, 0]}\")\n",
    "print(f\"Second column: {tensor[1, ...]}\")\n",
    "print(f\"Last column: {tensor[..., -1]}\")\n",
    "tensor[:,1] = 0\n",
    "print(tensor)"
   ]
  },
  {
   "cell_type": "markdown",
   "id": "609cd6db-4f71-41f4-93c0-6f195786a3c2",
   "metadata": {},
   "source": [
    "**2. Joining tensors**"
   ]
  },
  {
   "cell_type": "code",
   "execution_count": 73,
   "id": "2e5d5dc4-cd28-4d37-b62b-0d9c63569ccf",
   "metadata": {
    "scrolled": true
   },
   "outputs": [
    {
     "name": "stdout",
     "output_type": "stream",
     "text": [
      "tensor([[[1., 1.],\n",
      "         [0., 0.],\n",
      "         [1., 1.],\n",
      "         [1., 1.],\n",
      "         [1., 1.],\n",
      "         [1., 1.],\n",
      "         [0., 0.],\n",
      "         [1., 1.],\n",
      "         [1., 1.],\n",
      "         [1., 1.],\n",
      "         [1., 1.],\n",
      "         [0., 0.],\n",
      "         [1., 1.],\n",
      "         [1., 1.],\n",
      "         [1., 1.]],\n",
      "\n",
      "        [[1., 1.],\n",
      "         [0., 0.],\n",
      "         [1., 1.],\n",
      "         [1., 1.],\n",
      "         [1., 1.],\n",
      "         [1., 1.],\n",
      "         [0., 0.],\n",
      "         [1., 1.],\n",
      "         [1., 1.],\n",
      "         [1., 1.],\n",
      "         [1., 1.],\n",
      "         [0., 0.],\n",
      "         [1., 1.],\n",
      "         [1., 1.],\n",
      "         [1., 1.]],\n",
      "\n",
      "        [[1., 1.],\n",
      "         [0., 0.],\n",
      "         [1., 1.],\n",
      "         [1., 1.],\n",
      "         [1., 1.],\n",
      "         [1., 1.],\n",
      "         [0., 0.],\n",
      "         [1., 1.],\n",
      "         [1., 1.],\n",
      "         [1., 1.],\n",
      "         [1., 1.],\n",
      "         [0., 0.],\n",
      "         [1., 1.],\n",
      "         [1., 1.],\n",
      "         [1., 1.]],\n",
      "\n",
      "        [[1., 1.],\n",
      "         [0., 0.],\n",
      "         [1., 1.],\n",
      "         [1., 1.],\n",
      "         [1., 1.],\n",
      "         [1., 1.],\n",
      "         [0., 0.],\n",
      "         [1., 1.],\n",
      "         [1., 1.],\n",
      "         [1., 1.],\n",
      "         [1., 1.],\n",
      "         [0., 0.],\n",
      "         [1., 1.],\n",
      "         [1., 1.],\n",
      "         [1., 1.]]])\n"
     ]
    }
   ],
   "source": [
    "t1 = torch.cat([tensor, tensor, tensor], dim=1)\n",
    "print(t1)"
   ]
  },
  {
   "cell_type": "markdown",
   "id": "746ed2fb-a3c9-4207-a156-793157e06f85",
   "metadata": {},
   "source": [
    "**3. Arithmetic operations**"
   ]
  },
  {
   "cell_type": "code",
   "execution_count": 80,
   "id": "a7ce2b22-9c2d-44fb-ba36-45afa9bedb89",
   "metadata": {},
   "outputs": [
    {
     "name": "stdout",
     "output_type": "stream",
     "text": [
      "tensor([[1, 2],\n",
      "        [3, 4],\n",
      "        [5, 6]], dtype=torch.int32)\n"
     ]
    }
   ],
   "source": [
    "np_array = np.array([[1, 2], [3, 4], [5, 6]])\n",
    "tensor = torch.from_numpy(np_array)\n",
    "print(tensor)"
   ]
  },
  {
   "cell_type": "code",
   "execution_count": 56,
   "id": "b26b33fd-5aec-46f5-a67c-ad373719824b",
   "metadata": {},
   "outputs": [
    {
     "data": {
      "text/plain": [
       "tensor([[ 5, 11, 17],\n",
       "        [11, 25, 39],\n",
       "        [17, 39, 61]], dtype=torch.int32)"
      ]
     },
     "execution_count": 56,
     "metadata": {},
     "output_type": "execute_result"
    }
   ],
   "source": [
    "# Matrix operation 1: Matrix multiplication \n",
    "# This computes the matrix multiplication between two tensors.\n",
    "y1 = tensor @ tensor.T\n",
    "y1 = tensor.matmul(tensor.T)\n",
    "y1"
   ]
  },
  {
   "cell_type": "code",
   "execution_count": 60,
   "id": "b12e11a5-3c02-4c75-aa1c-694bda1d40e2",
   "metadata": {},
   "outputs": [
    {
     "data": {
      "text/plain": [
       "tensor([[ 1,  4],\n",
       "        [ 9, 16],\n",
       "        [25, 36]], dtype=torch.int32)"
      ]
     },
     "execution_count": 60,
     "metadata": {},
     "output_type": "execute_result"
    }
   ],
   "source": [
    "# Matrix operation 2: element-wise product\n",
    "y2 = tensor * tensor\n",
    "y2 = tensor.mul(tensor)\n",
    "y2"
   ]
  },
  {
   "cell_type": "markdown",
   "id": "23550e79-28ef-424d-a808-ab9dc7dd5e2f",
   "metadata": {},
   "source": [
    "**4. Single-element tensors**"
   ]
  },
  {
   "cell_type": "code",
   "execution_count": 64,
   "id": "bc18d888-2ec2-41de-9526-4cb0c27e5f14",
   "metadata": {},
   "outputs": [
    {
     "data": {
      "text/plain": [
       "tensor(21)"
      ]
     },
     "execution_count": 64,
     "metadata": {},
     "output_type": "execute_result"
    }
   ],
   "source": [
    "np_array = np.array([[1, 2], [3, 4], [5, 6]])\n",
    "tensor = torch.from_numpy(np_array)\n",
    "\n",
    "agg = tensor.sum()\n",
    "# agg_item = agg.item()\n",
    "# print(agg_item, type(agg_item))\n",
    "agg"
   ]
  },
  {
   "cell_type": "markdown",
   "id": "30071b13-ffdf-4c87-8740-065d19554e5e",
   "metadata": {},
   "source": [
    "**5. In-place operations**\n",
    "\n",
    "Operations that store the result into the operand are called in-place. They are denoted by a `_` suffix. For example: `x.copy_(y)`, `x.t_()`, will change `x`."
   ]
  },
  {
   "cell_type": "code",
   "execution_count": 65,
   "id": "60b1fa93-13e0-4227-8a39-7e340220acc4",
   "metadata": {},
   "outputs": [
    {
     "name": "stdout",
     "output_type": "stream",
     "text": [
      "tensor([[1, 2],\n",
      "        [3, 4],\n",
      "        [5, 6]], dtype=torch.int32) \n",
      "\n",
      "tensor([[ 6,  7],\n",
      "        [ 8,  9],\n",
      "        [10, 11]], dtype=torch.int32)\n"
     ]
    }
   ],
   "source": [
    "np_array = np.array([[1, 2], [3, 4], [5, 6]])\n",
    "tensor = torch.from_numpy(np_array)\n",
    "\n",
    "print(f\"{tensor} \\n\")\n",
    "tensor.add_(5)\n",
    "print(tensor)"
   ]
  },
  {
   "cell_type": "markdown",
   "id": "81963a53-497b-44e4-b03a-9db5fa2e2197",
   "metadata": {},
   "source": [
    "### Bridge with NumPy"
   ]
  },
  {
   "cell_type": "markdown",
   "id": "1bf08be9-4845-45fc-9e21-d0b4402efd4a",
   "metadata": {},
   "source": [
    "**Tensor to NumPy array**"
   ]
  },
  {
   "cell_type": "code",
   "execution_count": 66,
   "id": "951889d6-9f4f-4986-a33e-6a2ecc55866f",
   "metadata": {},
   "outputs": [
    {
     "name": "stdout",
     "output_type": "stream",
     "text": [
      "t: tensor([1., 1., 1., 1., 1.])\n",
      "n: [1. 1. 1. 1. 1.]\n"
     ]
    }
   ],
   "source": [
    "t = torch.ones(5)\n",
    "print(f\"t: {t}\")\n",
    "n = t.numpy()\n",
    "print(f\"n: {n}\")"
   ]
  },
  {
   "cell_type": "code",
   "execution_count": 67,
   "id": "f34993e8-b95d-40e6-8a75-16184ea63a6f",
   "metadata": {},
   "outputs": [
    {
     "name": "stdout",
     "output_type": "stream",
     "text": [
      "t: tensor([2., 2., 2., 2., 2.])\n",
      "n: [2. 2. 2. 2. 2.]\n"
     ]
    }
   ],
   "source": [
    "# A change in the tensor reflects in the NumPy array.\n",
    "t.add_(1)\n",
    "print(f\"t: {t}\")\n",
    "print(f\"n: {n}\")"
   ]
  },
  {
   "cell_type": "markdown",
   "id": "1836d04d-2f9f-4d81-8087-2f1f14237421",
   "metadata": {},
   "source": [
    "**NumPy array to Tensor**"
   ]
  },
  {
   "cell_type": "code",
   "execution_count": 69,
   "id": "b344d7d9-f013-49d3-b6bf-a48b488dc773",
   "metadata": {},
   "outputs": [],
   "source": [
    "n = np.ones(5)\n",
    "t = torch.from_numpy(n)"
   ]
  },
  {
   "cell_type": "code",
   "execution_count": 70,
   "id": "e99a25f5-3ba6-4c8a-8630-27a150ee3612",
   "metadata": {},
   "outputs": [
    {
     "name": "stdout",
     "output_type": "stream",
     "text": [
      "t: tensor([2., 2., 2., 2., 2.], dtype=torch.float64)\n",
      "n: [2. 2. 2. 2. 2.]\n"
     ]
    }
   ],
   "source": [
    "# Changes in the NumPy array reflects in the tensor.\n",
    "np.add(n, 1, out=n)\n",
    "print(f\"t: {t}\")\n",
    "print(f\"n: {n}\")"
   ]
  },
  {
   "cell_type": "markdown",
   "id": "ff30fb73-7bc8-41b8-9361-9a58bc447ab8",
   "metadata": {},
   "source": [
    "## Cat, vstack and hstack"
   ]
  },
  {
   "cell_type": "code",
   "execution_count": 87,
   "id": "f489e0e8-8de5-49e1-b171-55bb9dfe2bee",
   "metadata": {},
   "outputs": [],
   "source": [
    "tensor1 = torch.tensor([[[7, 7, 7], [6, 6, 6]], [[4, 4, 4], [2, 2, 2]]])\n",
    "tensor2 = torch.tensor([[[1, 0, 0], [0, 1, 0]], [[1, 0, 0], [0, 1, 0]]])"
   ]
  },
  {
   "cell_type": "code",
   "execution_count": 88,
   "id": "302b4112-a97b-45cc-9d7e-8a8c1a8c095d",
   "metadata": {},
   "outputs": [
    {
     "name": "stdout",
     "output_type": "stream",
     "text": [
      "Concatenated tensor along rows:\n",
      " tensor([[[7, 7, 7],\n",
      "         [6, 6, 6]],\n",
      "\n",
      "        [[4, 4, 4],\n",
      "         [2, 2, 2]],\n",
      "\n",
      "        [[1, 0, 0],\n",
      "         [0, 1, 0]],\n",
      "\n",
      "        [[1, 0, 0],\n",
      "         [0, 1, 0]]])\n"
     ]
    }
   ],
   "source": [
    "cat_tensor = torch.cat((tensor1, tensor2), dim=0)\n",
    "# cat_tensor = torch.vstack((tensor1, tensor2)) # 垂直拼接，两者等价\n",
    "print(\"Concatenated tensor along rows:\\n\", cat_tensor)"
   ]
  },
  {
   "cell_type": "code",
   "execution_count": 89,
   "id": "3e9ed3c9-ba57-40da-bb2c-2ffb5ec62378",
   "metadata": {},
   "outputs": [
    {
     "name": "stdout",
     "output_type": "stream",
     "text": [
      "Concatenated tensor along columns:\n",
      " tensor([[[7, 7, 7],\n",
      "         [6, 6, 6],\n",
      "         [1, 0, 0],\n",
      "         [0, 1, 0]],\n",
      "\n",
      "        [[4, 4, 4],\n",
      "         [2, 2, 2],\n",
      "         [1, 0, 0],\n",
      "         [0, 1, 0]]])\n"
     ]
    }
   ],
   "source": [
    "cat_tensor = torch.cat((tensor1, tensor2), dim=1)\n",
    "# cat_tensor = torch.hstack((tensor1, tensor2)) # 水平拼接，两者等价\n",
    "print(\"Concatenated tensor along columns:\\n\", cat_tensor)"
   ]
  },
  {
   "cell_type": "code",
   "execution_count": 92,
   "id": "40c6f8e6-4722-41d4-96f9-ad523b7ac6d8",
   "metadata": {},
   "outputs": [
    {
     "name": "stdout",
     "output_type": "stream",
     "text": [
      "Concatenated tensor along columns:\n",
      " tensor([[[7, 7, 7, 1, 0, 0],\n",
      "         [6, 6, 6, 0, 1, 0]],\n",
      "\n",
      "        [[4, 4, 4, 1, 0, 0],\n",
      "         [2, 2, 2, 0, 1, 0]]])\n"
     ]
    }
   ],
   "source": [
    "cat_tensor = torch.cat((tensor1, tensor2), dim=2)\n",
    "print(\"Concatenated tensor along columns:\\n\", cat_tensor)"
   ]
  },
  {
   "cell_type": "markdown",
   "id": "2f7c5f3d-f021-41bb-82b0-6e6948cdbd76",
   "metadata": {},
   "source": [
    "### Tensor重塑和调整大小"
   ]
  },
  {
   "cell_type": "code",
   "execution_count": 5,
   "id": "3062a983-9940-4fc2-bcca-735de2cbb78f",
   "metadata": {},
   "outputs": [
    {
     "name": "stdout",
     "output_type": "stream",
     "text": [
      "Original tensor:\n",
      " tensor([[0.2038, 0.3428, 0.9345],\n",
      "        [0.9291, 0.7025, 0.6332],\n",
      "        [0.0518, 0.1934, 0.4218],\n",
      "        [0.3266, 0.5722, 0.7227]])\n",
      "Reshaped tensor:\n",
      " tensor([[0.2038, 0.3428],\n",
      "        [0.9345, 0.9291],\n",
      "        [0.7025, 0.6332],\n",
      "        [0.0518, 0.1934],\n",
      "        [0.4218, 0.3266],\n",
      "        [0.5722, 0.7227]])\n",
      "Resized tensor:\n",
      " tensor([[[[0.2038, 0.3428, 0.9345]],\n",
      "\n",
      "         [[0.9291, 0.7025, 0.6332]]]])\n",
      "Flattened tensor:\n",
      " tensor([0.2038, 0.3428, 0.9345, 0.9291, 0.7025, 0.6332])\n"
     ]
    }
   ],
   "source": [
    "import torch\n",
    "\n",
    "# 创建一个3x3的随机张量\n",
    "tensor = torch.rand(4, 3)\n",
    "print(\"Original tensor:\\n\", tensor)\n",
    "\n",
    "# 重塑张量为一个9元素的向量\n",
    "reshaped_tensor = tensor.view(6, 2)\n",
    "print(\"Reshaped tensor:\\n\", reshaped_tensor)\n",
    "\n",
    "# 调整张量大小和维度\n",
    "resized_tensor = tensor.resize_(1, 2, 1, 3)\n",
    "print(\"Resized tensor:\\n\", resized_tensor)\n",
    "\n",
    "# 展平张量为一维\n",
    "flattened_tensor = torch.flatten(resized_tensor)\n",
    "print(\"Flattened tensor:\\n\", flattened_tensor)"
   ]
  },
  {
   "cell_type": "markdown",
   "id": "439aa1f5-3fd4-4a3e-8a95-d5cac3e11025",
   "metadata": {},
   "source": [
    "### Squeeze & unsqueeze"
   ]
  },
  {
   "cell_type": "code",
   "execution_count": 123,
   "id": "b46e0035-8835-40f5-9397-c02074162b2a",
   "metadata": {},
   "outputs": [
    {
     "name": "stdout",
     "output_type": "stream",
     "text": [
      "Squeezed tensor:\n",
      " tensor([[0.2920, 0.0085, 0.2651],\n",
      "        [0.0969, 0.8603, 0.9257]])\n"
     ]
    }
   ],
   "source": [
    "squeezed_tensor = torch.squeeze(resized_tensor)\n",
    "print(\"Squeezed tensor:\\n\", squeezed_tensor)  # torch.Size([2, 3])"
   ]
  },
  {
   "cell_type": "code",
   "execution_count": 124,
   "id": "8b23d744-3875-471f-bd4b-4034c0e2d5eb",
   "metadata": {},
   "outputs": [
    {
     "name": "stdout",
     "output_type": "stream",
     "text": [
      "Unsqueezed tensor along dim=0:\n",
      " tensor([[[0.2920, 0.0085, 0.2651],\n",
      "         [0.0969, 0.8603, 0.9257]]])\n"
     ]
    }
   ],
   "source": [
    "# 在第0维度（行方向）上增加尺寸为1的维度\n",
    "unsqueezed_tensor = torch.unsqueeze(squeezed_tensor, dim=0)\n",
    "print(\"Unsqueezed tensor along dim=0:\\n\", unsqueezed_tensor) # torch.Size([1, 2, 3])"
   ]
  },
  {
   "cell_type": "code",
   "execution_count": 125,
   "id": "44833ad7-1c40-4fe0-b990-3df6a54957e2",
   "metadata": {},
   "outputs": [
    {
     "name": "stdout",
     "output_type": "stream",
     "text": [
      "Unsqueezed tensor along dim=1:\n",
      " tensor([[[0.2920, 0.0085, 0.2651]],\n",
      "\n",
      "        [[0.0969, 0.8603, 0.9257]]])\n"
     ]
    }
   ],
   "source": [
    "# 在第1维度（列方向）上增加尺寸为1的维度\n",
    "unsqueezed_tensor = torch.unsqueeze(squeezed_tensor, dim=1)\n",
    "print(\"Unsqueezed tensor along dim=1:\\n\", unsqueezed_tensor)  # torch.Size([2, 1, 3])"
   ]
  },
  {
   "cell_type": "code",
   "execution_count": 126,
   "id": "33f1f28e-4240-4129-9496-d1535a3b76e0",
   "metadata": {},
   "outputs": [
    {
     "name": "stdout",
     "output_type": "stream",
     "text": [
      "Unsqueezed tensor along dim=2:\n",
      " tensor([[[0.2920],\n",
      "         [0.0085],\n",
      "         [0.2651]],\n",
      "\n",
      "        [[0.0969],\n",
      "         [0.8603],\n",
      "         [0.9257]]])\n"
     ]
    }
   ],
   "source": [
    "unsqueezed_tensor = torch.unsqueeze(squeezed_tensor, dim=2)\n",
    "print(\"Unsqueezed tensor along dim=2:\\n\", unsqueezed_tensor)  # torch.Size([2, 3, 1])"
   ]
  },
  {
   "cell_type": "code",
   "execution_count": 127,
   "id": "3d38af24-1177-4edb-96a6-45e140b3d7f4",
   "metadata": {},
   "outputs": [
    {
     "name": "stdout",
     "output_type": "stream",
     "text": [
      "Squeezed tensor:\n",
      " tensor([[0.2920, 0.0085, 0.2651],\n",
      "        [0.0969, 0.8603, 0.9257]])\n"
     ]
    }
   ],
   "source": [
    "# squeezed_tensor = torch.squeeze(unsqueezed_tensor)\n",
    "# print(\"Squeezed tensor:\\n\", squeezed_tensor)  # torch.Size([2, 3])"
   ]
  },
  {
   "cell_type": "code",
   "execution_count": null,
   "id": "188234f1-be8c-482d-a765-06263b356226",
   "metadata": {},
   "outputs": [],
   "source": []
  }
 ],
 "metadata": {
  "kernelspec": {
   "display_name": "Python 3 (ipykernel)",
   "language": "python",
   "name": "python3"
  },
  "language_info": {
   "codemirror_mode": {
    "name": "ipython",
    "version": 3
   },
   "file_extension": ".py",
   "mimetype": "text/x-python",
   "name": "python",
   "nbconvert_exporter": "python",
   "pygments_lexer": "ipython3",
   "version": "3.10.9"
  }
 },
 "nbformat": 4,
 "nbformat_minor": 5
}
