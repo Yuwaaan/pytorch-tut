{
 "cells": [
  {
   "cell_type": "code",
   "execution_count": 1,
   "id": "36f29855",
   "metadata": {},
   "outputs": [],
   "source": [
    "import torch\n",
    "import numpy as np\n",
    "import torch.nn as nn\n",
    "import torch.optim as optim\n",
    "import torch.utils.data as Data\n",
    "\n",
    "dtype = torch.FloatTensor"
   ]
  },
  {
   "cell_type": "code",
   "execution_count": 2,
   "id": "364f946e",
   "metadata": {},
   "outputs": [],
   "source": [
    "sentence = (\n",
    "    'GitHub Actions makes it easy to automate all your software workflows '\n",
    "    'from continuous integration and delivery to issue triage and more'\n",
    ")\n",
    "\n",
    "word2idx = {w: i for i, w in enumerate(list(set(sentence.split())))}\n",
    "idx2word = {i: w for i, w in enumerate(list(set(sentence.split())))}\n",
    "n_class = len(word2idx) # classification problem\n",
    "max_len = len(sentence.split())\n",
    "n_hidden = 5"
   ]
  },
  {
   "cell_type": "code",
   "execution_count": 7,
   "id": "032f96e5",
   "metadata": {},
   "outputs": [],
   "source": [
    "def make_data(sentence):\n",
    "    input_batch = []\n",
    "    target_batch = []\n",
    "\n",
    "    words = sentence.split() # ['Github', 'Actions', 'makes', ...]\n",
    "    for i in range(max_len - 1): # i = 2\n",
    "        input = [word2idx[n] for n in words[:(i + 1)]] # input = [18 7 3]\n",
    "        input = input + [0] * (max_len - len(input)) # input = [18 7 3 0 'it', ..., 0]\n",
    "        target = word2idx[words[i + 1]] # target = [0]\n",
    "        input_batch.append(np.eye(n_class)[input])\n",
    "        target_batch.append(target)\n",
    "\n",
    "    return torch.Tensor(input_batch), torch.LongTensor(target_batch)\n",
    "\n",
    "# input_batch: [max_len - 1, max_len, n_class]\n",
    "input_batch, target_batch = make_data(sentence)\n",
    "dataset = Data.TensorDataset(input_batch, target_batch)\n",
    "loader = Data.DataLoader(dataset, 16, True)"
   ]
  },
  {
   "cell_type": "code",
   "execution_count": 9,
   "id": "f1f864df",
   "metadata": {},
   "outputs": [],
   "source": [
    "class BiLSTM(nn.Module):\n",
    "    def __init__(self):\n",
    "        super(BiLSTM, self).__init__()\n",
    "        self.lstm = nn.LSTM(input_size = n_class, hidden_size=n_hidden, bidirectional=True)\n",
    "        self.fc = nn.Linear(n_hidden * 2, n_class)\n",
    "        \n",
    "    def forward(self, X):\n",
    "        # X: [batch_size, max_len, n_class]\n",
    "        batch_size = X.shape[0]\n",
    "        input = X.transpose(0, 1)  # input : [max_len, batch_size, n_class]\n",
    "        \n",
    "        hidden_state = torch.randn(1*2, batch_size, n_hidden)   # [num_layers(=1) * num_directions(=2), batch_size, n_hidden]\n",
    "        cell_state = torch.randn(1*2, batch_size, n_hidden)     # [num_layers(=1) * num_directions(=2), batch_size, n_hidden]\n",
    "        \n",
    "        outputs, (_, _) = self.lstm(input, (hidden_state, cell_state)) # [max_len, batch_size, n_hidden * 2]\n",
    "        outputs = outputs[-1]  # [batch_size, n_hidden * 2]\n",
    "        model = self.fc(outputs)  # model : [batch_size, n_class]\n",
    "        return model\n",
    "    \n",
    "model = BiLSTM()\n",
    "criterion = nn.CrossEntropyLoss()\n",
    "optimizer = optim.Adam(model.parameters(), lr=0.001)"
   ]
  },
  {
   "cell_type": "code",
   "execution_count": 10,
   "id": "32f94438",
   "metadata": {},
   "outputs": [
    {
     "name": "stdout",
     "output_type": "stream",
     "text": [
      "Epoch: 1000 cost = 1.959284\n",
      "Epoch: 1000 cost = 2.142918\n",
      "Epoch: 2000 cost = 1.246432\n",
      "Epoch: 2000 cost = 1.370831\n",
      "Epoch: 3000 cost = 0.925838\n",
      "Epoch: 3000 cost = 1.230203\n",
      "Epoch: 4000 cost = 0.728317\n",
      "Epoch: 4000 cost = 0.693985\n",
      "Epoch: 5000 cost = 0.543255\n",
      "Epoch: 5000 cost = 0.772424\n",
      "Epoch: 6000 cost = 0.464867\n",
      "Epoch: 6000 cost = 0.281520\n",
      "Epoch: 7000 cost = 0.378969\n",
      "Epoch: 7000 cost = 0.087734\n",
      "Epoch: 8000 cost = 0.246612\n",
      "Epoch: 8000 cost = 0.382626\n",
      "Epoch: 9000 cost = 0.280795\n",
      "Epoch: 9000 cost = 0.475279\n",
      "Epoch: 10000 cost = 0.279257\n",
      "Epoch: 10000 cost = 0.315064\n"
     ]
    }
   ],
   "source": [
    "# Training\n",
    "for epoch in range(10000):\n",
    "    for x, y in loader:\n",
    "        pred = model(x)\n",
    "        loss = criterion(pred, y)\n",
    "        if (epoch + 1) % 1000 == 0:\n",
    "            print('Epoch:', '%04d' % (epoch + 1), 'cost =', '{:.6f}'.format(loss))\n",
    "\n",
    "        optimizer.zero_grad()\n",
    "        loss.backward()\n",
    "        optimizer.step()"
   ]
  },
  {
   "cell_type": "code",
   "execution_count": 15,
   "id": "3c2ec14a",
   "metadata": {},
   "outputs": [
    {
     "name": "stdout",
     "output_type": "stream",
     "text": [
      "GitHub Actions makes it easy to automate all your software workflows from continuous integration and delivery to issue triage and more\n",
      "['makes', 'makes', 'makes', 'easy', 'to', 'automate', 'all', 'your', 'software', 'workflows', 'from', 'continuous', 'integration', 'and', 'delivery', 'to', 'issue', 'triage', 'and', 'more']\n"
     ]
    }
   ],
   "source": [
    "# Pred\n",
    "predict = model(input_batch).data.max(1, keepdim=True)[1]\n",
    "print(sentence)\n",
    "print([idx2word[n.item()] for n in predict.squeeze()])"
   ]
  },
  {
   "cell_type": "code",
   "execution_count": 16,
   "id": "7f389514",
   "metadata": {},
   "outputs": [
    {
     "name": "stdout",
     "output_type": "stream",
     "text": [
      "GitHub Actions makes it easy to automate all your software workflows from continuous integration and delivery to issue triage and more\n",
      "['makes', 'makes', 'makes', 'to', 'to', 'automate', 'all', 'your', 'software', 'workflows', 'from', 'continuous', 'integration', 'and', 'delivery', 'to', 'issue', 'triage', 'and', 'more']\n"
     ]
    }
   ],
   "source": [
    "# # Pred\n",
    "# predict = model(input_batch).data.max(1, keepdim=True)[1]\n",
    "# print(sentence)\n",
    "# print([idx2word[n.item()] for n in predict.squeeze()])"
   ]
  },
  {
   "cell_type": "code",
   "execution_count": null,
   "id": "5bc901d8",
   "metadata": {},
   "outputs": [],
   "source": []
  }
 ],
 "metadata": {
  "kernelspec": {
   "display_name": "Python 3 (ipykernel)",
   "language": "python",
   "name": "python3"
  },
  "language_info": {
   "codemirror_mode": {
    "name": "ipython",
    "version": 3
   },
   "file_extension": ".py",
   "mimetype": "text/x-python",
   "name": "python",
   "nbconvert_exporter": "python",
   "pygments_lexer": "ipython3",
   "version": "3.7.3"
  }
 },
 "nbformat": 4,
 "nbformat_minor": 5
}
