{
 "cells": [
  {
   "cell_type": "markdown",
   "id": "2c9c7a38-58a4-4b1f-ab28-bd13d66c1d9e",
   "metadata": {},
   "source": [
    "## NumPy"
   ]
  },
  {
   "cell_type": "code",
   "execution_count": 1,
   "id": "174564f8-9ce1-4a41-b358-0ef24da1aeac",
   "metadata": {},
   "outputs": [],
   "source": [
    "import numpy as np"
   ]
  },
  {
   "cell_type": "markdown",
   "id": "688159e3-423e-48c5-b2fa-810bbd5bfe1e",
   "metadata": {},
   "source": [
    "**Initializing an Array**"
   ]
  },
  {
   "cell_type": "code",
   "execution_count": 2,
   "id": "8dd15b45-12dc-473f-af3d-0541b90cd48c",
   "metadata": {},
   "outputs": [],
   "source": [
    "# 1. Directly from data\n",
    "arr1 = np.array([1, 2, 3, 4, 5])  # 一维数组\n",
    "arr2 = np.array([[1, 2, 3], [4, 5, 6]])  # 二维数组"
   ]
  },
  {
   "cell_type": "code",
   "execution_count": 34,
   "id": "09c1f247-a5df-4728-b783-0c88399b315b",
   "metadata": {},
   "outputs": [
    {
     "name": "stdout",
     "output_type": "stream",
     "text": [
      "[10. 12. 14. 16. 18.]\n",
      "[ 0.  2.  4.  6.  8. 10. 12.]\n",
      "[[1. 1. 1. 1. 1.]\n",
      " [1. 1. 1. 1. 1.]]\n",
      "[[0. 0.]\n",
      " [0. 0.]\n",
      " [0. 0.]]\n",
      "[[1.]\n",
      " [1.]\n",
      " [1.]\n",
      " [1.]\n",
      " [1.]]\n",
      "[[1. 0. 0. 0. 0.]\n",
      " [0. 1. 0. 0. 0.]\n",
      " [0. 0. 1. 0. 0.]\n",
      " [0. 0. 0. 1. 0.]\n",
      " [0. 0. 0. 0. 1.]]\n",
      "[[0.36164184 0.84634149 0.28138189]\n",
      " [0.8117014  0.51491549 0.79608742]\n",
      " [0.26056467 0.34552727 0.32652432]]\n"
     ]
    }
   ],
   "source": [
    "# 2. With random or constant values\n",
    "x = np.arange(10, 20, 2, dtype =  float)  \n",
    "print (x)\n",
    "\n",
    "# numpy.linspace 函数用于创建一个一维数组，\n",
    "# 数组是一个等差数列构成的\n",
    "a = np.linspace(0, 12, 7)\n",
    "print(a)\n",
    "\n",
    "# 设置元素全部是1的等差数列\n",
    "a = np.linspace(1,1,10).reshape([2, 5])\n",
    "print(a)\n",
    "\n",
    "import numpy.matlib \n",
    "\n",
    "# numpy.matlib.zeros() 函数创建一个以 0 填充的矩阵\n",
    "print (np.matlib.zeros((3,2)))\n",
    "\n",
    "# numpy.matlib.ones()函数创建一个以 1 填充的矩阵\n",
    "print (np.matlib.ones((5,1)))\n",
    "\n",
    "# numpy.matlib.identity() 函数返回给定大小的单位矩阵\n",
    "print (np.matlib.identity(5, dtype =  float))\n",
    "\n",
    "# numpy.matlib.rand() 函数创建一个给定大小的矩阵，数据是随机填充的\n",
    "print (np.matlib.rand(3,3))"
   ]
  },
  {
   "cell_type": "code",
   "execution_count": 27,
   "id": "d432595a-bc4a-497b-83fd-155db2d7bd90",
   "metadata": {},
   "outputs": [
    {
     "data": {
      "text/plain": [
       "array([1., 1., 1., 1., 1.], dtype=float32)"
      ]
     },
     "execution_count": 27,
     "metadata": {},
     "output_type": "execute_result"
    }
   ],
   "source": [
    "# 3. From Tensor\n",
    "import torch \n",
    "\n",
    "t = torch.ones(5)\n",
    "n = t.numpy()\n",
    "n"
   ]
  },
  {
   "cell_type": "markdown",
   "id": "326e1548-17c0-4114-a94f-c9dadcd669a2",
   "metadata": {},
   "source": [
    "**Attributes of an Array**"
   ]
  },
  {
   "cell_type": "code",
   "execution_count": 3,
   "id": "eb9482a7-fa7f-4e03-ab90-fbe670771fb3",
   "metadata": {},
   "outputs": [
    {
     "name": "stdout",
     "output_type": "stream",
     "text": [
      "(5,)\n",
      "int32\n",
      "2\n"
     ]
    }
   ],
   "source": [
    "print(arr1.shape)  # (5,)\n",
    "print(arr2.dtype)  # int64\n",
    "print(arr2.ndim)   # 2"
   ]
  },
  {
   "cell_type": "markdown",
   "id": "489c80d9-1e2d-4673-b75c-d58ad4b11225",
   "metadata": {},
   "source": [
    "### Operations on Arrays"
   ]
  },
  {
   "cell_type": "markdown",
   "id": "8210120f-e8f5-4113-b1cc-586fbd20310f",
   "metadata": {},
   "source": [
    "**1. indexing and slicing:**"
   ]
  },
  {
   "cell_type": "code",
   "execution_count": 28,
   "id": "28ab8ea5-289c-4fe3-bda3-66051bdbe469",
   "metadata": {},
   "outputs": [
    {
     "name": "stdout",
     "output_type": "stream",
     "text": [
      "1\n",
      "[[2 3]\n",
      " [5 6]]\n",
      "[2 4]\n"
     ]
    }
   ],
   "source": [
    "arr1 = np.array([1, 2, 3, 4, 5])  # 一维数组\n",
    "arr2 = np.array([[1, 2, 3], [4, 5, 6]])  # 二维数组\n",
    "\n",
    "print(arr1[0])      # Accessing single element\n",
    "print(arr2[:, 1:])  # Slicing\n",
    "print(arr1[1: 4: 2])  # 从索引 1 开始到索引 4 停止，间隔为 2"
   ]
  },
  {
   "cell_type": "code",
   "execution_count": 29,
   "id": "b1a06fc7-5350-4bfc-b692-b7ab3ef3e8fa",
   "metadata": {},
   "outputs": [
    {
     "name": "stdout",
     "output_type": "stream",
     "text": [
      "[2 4 5]\n",
      "[3 4 5]\n",
      "[[2 3]\n",
      " [4 5]\n",
      " [5 6]]\n"
     ]
    }
   ],
   "source": [
    "a = np.array([[1,2,3],[3,4,5],[4,5,6]])  \n",
    "print (a[...,1])   # 第2列元素\n",
    "print (a[1,...])   # 第2行元素\n",
    "print (a[...,1:])  # 第2列及剩下的所有元素"
   ]
  },
  {
   "cell_type": "markdown",
   "id": "bb649796-effc-4ded-a37e-0838168d571a",
   "metadata": {},
   "source": [
    "**2. 基本运算**"
   ]
  },
  {
   "cell_type": "code",
   "execution_count": 6,
   "id": "4dce06b8-cc72-45b0-9406-8ff8f5838c2c",
   "metadata": {},
   "outputs": [
    {
     "name": "stdout",
     "output_type": "stream",
     "text": [
      "[11 12 13 14 15]\n",
      "21\n"
     ]
    }
   ],
   "source": [
    "arr3 = arr1 + 10    # Element-wise addition\n",
    "arr4 = np.sum(arr2) # Array-wise sum\n",
    "print(arr3)\n",
    "print(arr4)"
   ]
  },
  {
   "cell_type": "markdown",
   "id": "6e871de6-dc0b-4700-8924-de98bf003937",
   "metadata": {},
   "source": [
    "**3. 矩阵操作:**"
   ]
  },
  {
   "cell_type": "code",
   "execution_count": 36,
   "id": "41f7ce58-ff08-4ea4-837d-826cb51a8ddb",
   "metadata": {},
   "outputs": [
    {
     "data": {
      "text/plain": [
       "array([[14, 32],\n",
       "       [32, 77]])"
      ]
     },
     "execution_count": 36,
     "metadata": {},
     "output_type": "execute_result"
    }
   ],
   "source": [
    "# Matrox Multiplication\n",
    "matrix_product = np.matmul(arr2, arr2.T) \n",
    "matrix_product = arr2 @ arr2.T  # 和matmul等价\n",
    "### matrix_product = np.dot(arr2, arr2.T) \n",
    "matrix_product"
   ]
  },
  {
   "cell_type": "code",
   "execution_count": 9,
   "id": "11d54679-4d94-43d0-8f0d-279fa8a77d1e",
   "metadata": {},
   "outputs": [
    {
     "data": {
      "text/plain": [
       "array([ 4, 10, 18])"
      ]
     },
     "execution_count": 9,
     "metadata": {},
     "output_type": "execute_result"
    }
   ],
   "source": [
    "# Element-wise product\n",
    "array1 = np.array([1, 2, 3])\n",
    "array2 = np.array([4, 5, 6])\n",
    "result_array = array1 * array2\n",
    "result_array"
   ]
  },
  {
   "cell_type": "markdown",
   "id": "b271de88-0f8c-40a6-a37e-551e91b1cefd",
   "metadata": {},
   "source": [
    "**3.5 向量操作:**"
   ]
  },
  {
   "cell_type": "code",
   "execution_count": 35,
   "id": "aaf45f21-40dc-4fd4-b614-bf15addba1d3",
   "metadata": {},
   "outputs": [
    {
     "name": "stdout",
     "output_type": "stream",
     "text": [
      "2\n"
     ]
    }
   ],
   "source": [
    "print (np.inner(np.array([1,2,3]),np.array([0,1,0])))\n",
    "# 等价于 1*0+2*1+3*0"
   ]
  },
  {
   "cell_type": "code",
   "execution_count": 37,
   "id": "bd9ab2b9-1238-4300-9bfa-9b62a49aa9a1",
   "metadata": {},
   "outputs": [
    {
     "name": "stdout",
     "output_type": "stream",
     "text": [
      "2\n"
     ]
    }
   ],
   "source": [
    "print (np.dot(np.array([1,2,3]),np.array([0,1,0])))\n",
    "# 等价于 1*0+2*1+3*0"
   ]
  },
  {
   "cell_type": "markdown",
   "id": "c4c1e87c-0691-4020-8c1f-322ad7e604bc",
   "metadata": {},
   "source": [
    "**4. Array Functions:**"
   ]
  },
  {
   "cell_type": "code",
   "execution_count": 11,
   "id": "77aa61b1-550c-4a43-a42b-4ffd435ba9b0",
   "metadata": {},
   "outputs": [
    {
     "name": "stdout",
     "output_type": "stream",
     "text": [
      "3.0 6\n"
     ]
    }
   ],
   "source": [
    "mean_val = np.mean(arr1)  # Mean\n",
    "max_val = np.max(arr2)    # Maximum\n",
    "print(mean_val, max_val)"
   ]
  },
  {
   "cell_type": "markdown",
   "id": "ba19b740-1885-41db-9bf8-db386f1efce2",
   "metadata": {},
   "source": [
    "**5. Broadcast**"
   ]
  },
  {
   "cell_type": "code",
   "execution_count": 30,
   "id": "e58ad05c-326e-4029-af88-53e9f12040a0",
   "metadata": {},
   "outputs": [
    {
     "name": "stdout",
     "output_type": "stream",
     "text": [
      "[[ 0  1  2]\n",
      " [10 11 12]\n",
      " [20 21 22]\n",
      " [30 31 32]]\n"
     ]
    }
   ],
   "source": [
    "a = np.array([[ 0, 0, 0],\n",
    "           [10,10,10],\n",
    "           [20,20,20],\n",
    "           [30,30,30]])\n",
    "b = np.array([0,1,2])\n",
    "print(a + b)"
   ]
  },
  {
   "cell_type": "code",
   "execution_count": null,
   "id": "4c9fa502-8958-4018-9c8e-eb54429ebf29",
   "metadata": {},
   "outputs": [],
   "source": []
  },
  {
   "cell_type": "code",
   "execution_count": null,
   "id": "5c9c0f78-b80c-4314-a593-a4b7cfea213c",
   "metadata": {},
   "outputs": [],
   "source": []
  }
 ],
 "metadata": {
  "kernelspec": {
   "display_name": "Python 3 (ipykernel)",
   "language": "python",
   "name": "python3"
  },
  "language_info": {
   "codemirror_mode": {
    "name": "ipython",
    "version": 3
   },
   "file_extension": ".py",
   "mimetype": "text/x-python",
   "name": "python",
   "nbconvert_exporter": "python",
   "pygments_lexer": "ipython3",
   "version": "3.10.9"
  }
 },
 "nbformat": 4,
 "nbformat_minor": 5
}
