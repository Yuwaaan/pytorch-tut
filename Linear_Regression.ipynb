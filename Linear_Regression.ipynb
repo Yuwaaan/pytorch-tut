{
 "cells": [
  {
   "cell_type": "code",
   "execution_count": 2,
   "id": "10189339-e95c-44cf-bd13-2c9685bd8c50",
   "metadata": {},
   "outputs": [
    {
     "name": "stdout",
     "output_type": "stream",
     "text": [
      "2.2.2+cu121\n",
      "Device: cuda\n"
     ]
    }
   ],
   "source": [
    "# Import pytorch\n",
    "import torch\n",
    "import torch.nn as nn\n",
    "print(torch.__version__)\n",
    "\n",
    "device = \"cuda\" if torch.cuda.is_available() else \"cpu\"\n",
    "print(f\"Device: {device}\")"
   ]
  },
  {
   "cell_type": "markdown",
   "id": "49e6611d-ddc9-467d-a893-afe66d47f528",
   "metadata": {
    "jp-MarkdownHeadingCollapsed": true
   },
   "source": [
    "## 1. Data preparing and loading"
   ]
  },
  {
   "cell_type": "code",
   "execution_count": 7,
   "id": "5f56b70f-1162-4dca-8413-23da976cbb53",
   "metadata": {},
   "outputs": [
    {
     "data": {
      "text/plain": [
       "(torch.Size([50, 1]), torch.Size([50, 1]))"
      ]
     },
     "execution_count": 7,
     "metadata": {},
     "output_type": "execute_result"
    }
   ],
   "source": [
    "# Create weight and bias\n",
    "weight = 0.7\n",
    "bias = 0.3\n",
    "\n",
    "# Create X and y (features and values)\n",
    "X = torch.arange(0, 1, 0.02).unsqueeze(dim=1)  # without unsqueeze, errors will happen later on (shapes within linear layers)\n",
    "y = weight * X + bias\n",
    "X.shape, y.shape"
   ]
  },
  {
   "cell_type": "code",
   "execution_count": 8,
   "id": "85daa36f-aeb6-4202-ba2f-aecc66b9fe39",
   "metadata": {},
   "outputs": [
    {
     "data": {
      "text/plain": [
       "(tensor([[0.0000],\n",
       "         [0.0200],\n",
       "         [0.0400],\n",
       "         [0.0600],\n",
       "         [0.0800],\n",
       "         [0.1000],\n",
       "         [0.1200],\n",
       "         [0.1400],\n",
       "         [0.1600],\n",
       "         [0.1800]]),\n",
       " tensor([[0.3000],\n",
       "         [0.3140],\n",
       "         [0.3280],\n",
       "         [0.3420],\n",
       "         [0.3560],\n",
       "         [0.3700],\n",
       "         [0.3840],\n",
       "         [0.3980],\n",
       "         [0.4120],\n",
       "         [0.4260]]))"
      ]
     },
     "execution_count": 8,
     "metadata": {},
     "output_type": "execute_result"
    }
   ],
   "source": [
    "X[:10], y[:10]"
   ]
  },
  {
   "cell_type": "code",
   "execution_count": 14,
   "id": "ace1121d-fa67-4e2b-9a14-979fcb76db30",
   "metadata": {},
   "outputs": [
    {
     "data": {
      "text/plain": [
       "(40, 40, 10, 10)"
      ]
     },
     "execution_count": 14,
     "metadata": {},
     "output_type": "execute_result"
    }
   ],
   "source": [
    "# Split the data\n",
    "train_split = int(0.8 * len(X))\n",
    "X_train, y_train = X[:train_split], y[:train_split]\n",
    "X_test, y_test = X[train_split:], y[train_split:]\n",
    "\n",
    "len(X_train), len(y_train), len(X_test), len(y_test)"
   ]
  },
  {
   "cell_type": "code",
   "execution_count": 19,
   "id": "7f995139-db7f-4df8-bd39-a17a4f9ea5c9",
   "metadata": {},
   "outputs": [
    {
     "data": {
      "image/png": "[encoded data removed]",
      "text/plain": [
       "<Figure size 800x600 with 1 Axes>"
      ]
     },
     "metadata": {},
     "output_type": "display_data"
    }
   ],
   "source": [
    "import matplotlib.pyplot as plt\n",
    "\n",
    "plt.figure(figsize=(8, 6))\n",
    "\n",
    "# Plot the training data in blue\n",
    "plt.scatter(X_train, y_train, c='b', label=\"Trianing data\")\n",
    "# Plot the testing data in green\n",
    "plt.scatter(X_test, y_test, c='g', label=\"Testing data\")\n",
    "\n",
    "plt.legend()\n",
    "plt.show()"
   ]
  },
  {
   "cell_type": "markdown",
   "id": "5966a240-611a-41a7-94e0-af8f25e55203",
   "metadata": {
    "jp-MarkdownHeadingCollapsed": true
   },
   "source": [
    "## 2. Build the model"
   ]
  },
  {
   "cell_type": "code",
   "execution_count": 26,
   "id": "aafeacc2-0887-460d-a59c-6cd279b746ba",
   "metadata": {},
   "outputs": [
    {
     "data": {
      "text/plain": [
       "LinearRegressionModel(\n",
       "  (linear_layer): Linear(in_features=1, out_features=1, bias=True)\n",
       ")"
      ]
     },
     "execution_count": 26,
     "metadata": {},
     "output_type": "execute_result"
    }
   ],
   "source": [
    "# Create a linear regression model\n",
    "class LinearRegressionModel(nn.Module):\n",
    "    def __init__(self):\n",
    "        super().__init__()\n",
    "        self.linear_layer = nn.Linear(in_features=1,\n",
    "                                     out_features=1)\n",
    "\n",
    "    def forward(self, x):\n",
    "        return self.linear_layer(x)\n",
    "\n",
    "# Set the manual seed when creating the model\n",
    "torch.manual_seed(42)\n",
    "model = LinearRegressionModel().to(device)\n",
    "model"
   ]
  },
  {
   "cell_type": "code",
   "execution_count": 27,
   "id": "c23e9405-9c42-48fc-9454-01ba8c9c8be5",
   "metadata": {},
   "outputs": [
    {
     "data": {
      "text/plain": [
       "OrderedDict([('linear_layer.weight', tensor([[0.7645]], device='cuda:0')),\n",
       "             ('linear_layer.bias', tensor([0.8300], device='cuda:0'))])"
      ]
     },
     "execution_count": 27,
     "metadata": {},
     "output_type": "execute_result"
    }
   ],
   "source": [
    "model.state_dict()"
   ]
  },
  {
   "cell_type": "code",
   "execution_count": 28,
   "id": "88be77c8-8c2c-4105-a141-4b43a22a607f",
   "metadata": {},
   "outputs": [
    {
     "data": {
      "text/plain": [
       "device(type='cuda', index=0)"
      ]
     },
     "execution_count": 28,
     "metadata": {},
     "output_type": "execute_result"
    }
   ],
   "source": [
    "# Check model device\n",
    "next(model.parameters()).device"
   ]
  },
  {
   "cell_type": "markdown",
   "id": "ceccad9b-6381-4142-8dae-2f55e77f6729",
   "metadata": {
    "jp-MarkdownHeadingCollapsed": true
   },
   "source": [
    "## 3. Training"
   ]
  },
  {
   "cell_type": "code",
   "execution_count": 33,
   "id": "f2e60d42-8a7b-44ae-ad60-43d114902db7",
   "metadata": {},
   "outputs": [],
   "source": [
    "# Create loss function\n",
    "loss_fn = nn.L1Loss()\n",
    "\n",
    "# Create optimizer\n",
    "optimizer = torch.optim.Adam(params=model.parameters(),  # optimize newly created model's parameters\n",
    "                            lr=0.01)"
   ]
  },
  {
   "cell_type": "code",
   "execution_count": 35,
   "id": "b87fdff9-3486-4205-b522-4c7c46034643",
   "metadata": {},
   "outputs": [
    {
     "name": "stdout",
     "output_type": "stream",
     "text": [
      "Epoch: 0 | Train loss: 0.0028789364732801914 | Test loss: 0.0038926363922655582\n",
      "Epoch: 100 | Train loss: 0.003213830292224884 | Test loss: 0.003561299992725253\n",
      "Epoch: 200 | Train loss: 0.00287402281537652 | Test loss: 0.0038867772091180086\n",
      "Epoch: 300 | Train loss: 0.003210146678611636 | Test loss: 0.003557103918865323\n",
      "Epoch: 400 | Train loss: 0.0028710595797747374 | Test loss: 0.003883457276970148\n",
      "Epoch: 500 | Train loss: 0.0032070823945105076 | Test loss: 0.003553378628566861\n",
      "Epoch: 600 | Train loss: 0.0028690004255622625 | Test loss: 0.0038811564445495605\n",
      "Epoch: 700 | Train loss: 0.0032051026355475187 | Test loss: 0.0035510242450982332\n",
      "Epoch: 800 | Train loss: 0.0028675056528300047 | Test loss: 0.003879499388858676\n",
      "Epoch: 900 | Train loss: 0.0032035589683800936 | Test loss: 0.0035491406451910734\n"
     ]
    }
   ],
   "source": [
    "#Train the model\n",
    "\n",
    "torch.manual_seed(42)\n",
    "torch.cuda.manual_seed(42)\n",
    "\n",
    "# Set the number of epochs\n",
    "epochs = 1000\n",
    "\n",
    "# Put data on the device\n",
    "X_train, y_train = X_train.to(device), y_train.to(device)\n",
    "X_test, y_test = X_test.to(device), y_test.to(device)\n",
    "\n",
    "# Build a training loop\n",
    "for epoch in range(epochs):\n",
    "    ### Trining\n",
    "    model.train()  # train mode is on by default after construction    \n",
    "    \n",
    "    # 1. Forward pass\n",
    "    y_pred = model(X_train)\n",
    "    \n",
    "    # 2. Calculate loss\n",
    "    loss = loss_fn(y_pred, y_train)\n",
    "    \n",
    "    # 3. Zero grad optimizer\n",
    "    optimizer.zero_grad()\n",
    "    \n",
    "    # 4. Loss backward\n",
    "    loss.backward()\n",
    "    \n",
    "    # 5. Step the optimizer\n",
    "    optimizer.step()\n",
    "\n",
    "    ### Testing\n",
    "    model.eval()  # put the model in evaluation mode for testing (inference)\n",
    "    # 1. Forward pass\n",
    "    with torch.inference_mode():\n",
    "        test_pred = model(X_test)\n",
    "        \n",
    "        # 2. Calculate loss\n",
    "        test_loss = loss_fn(test_pred, y_test)\n",
    "        \n",
    "    if epoch % 100 == 0:\n",
    "        print(f\"Epoch: {epoch} | Train loss: {loss} | Test loss: {test_loss}\")"
   ]
  },
  {
   "cell_type": "markdown",
   "id": "908e75ab-cfec-4e17-bc46-ce27802cb4c5",
   "metadata": {
    "jp-MarkdownHeadingCollapsed": true
   },
   "source": [
    "## 4. Predicting"
   ]
  },
  {
   "cell_type": "code",
   "execution_count": 49,
   "id": "1db1f6ad-9a44-4140-a936-f3ba93a649a7",
   "metadata": {},
   "outputs": [
    {
     "data": {
      "text/plain": [
       "tensor([[0.8640],\n",
       "        [0.8781],\n",
       "        [0.8921],\n",
       "        [0.9062],\n",
       "        [0.9203],\n",
       "        [0.9343],\n",
       "        [0.9484],\n",
       "        [0.9624],\n",
       "        [0.9765],\n",
       "        [0.9905]], device='cuda:0')"
      ]
     },
     "execution_count": 49,
     "metadata": {},
     "output_type": "execute_result"
    }
   ],
   "source": [
    "# Make predictions\n",
    "\n",
    "# Turn model into evaluation mode\n",
    "model.eval()\n",
    "\n",
    "# Make predictions on the test data\n",
    "with torch.inference_mode():\n",
    "    y_preds = model(X_test)\n",
    "\n",
    "y_preds"
   ]
  },
  {
   "cell_type": "code",
   "execution_count": 50,
   "id": "77b6b3a1-20a4-441d-beca-3c82df5124de",
   "metadata": {},
   "outputs": [
    {
     "data": {
      "image/png": "[encoded data removed]",
      "text/plain": [
       "<Figure size 800x600 with 1 Axes>"
      ]
     },
     "metadata": {},
     "output_type": "display_data"
    }
   ],
   "source": [
    "# Put data on the CPU and plot it\n",
    "\n",
    "plt.figure(figsize=(8, 6))\n",
    "plt.scatter(X_train.cpu(), y_train.cpu(), c='b', label='Training data')\n",
    "plt.scatter(X_test.cpu(), y_test.cpu(), c='g', label='Testing data')\n",
    "plt.scatter(X_test.cpu(), y_preds.cpu(), c='r', label='predictions')\n",
    "plt.legend()\n",
    "plt.show()"
   ]
  },
  {
   "cell_type": "markdown",
   "id": "576546e0-bad6-4558-b7b6-c86c5023c493",
   "metadata": {
    "jp-MarkdownHeadingCollapsed": true
   },
   "source": [
    "## 5. Saving and loading the model"
   ]
  },
  {
   "cell_type": "code",
   "execution_count": 51,
   "id": "5fcc5cd1-2ab1-4ccc-a809-d44b392e4398",
   "metadata": {},
   "outputs": [
    {
     "name": "stdout",
     "output_type": "stream",
     "text": [
      "Saving model to: models/01_pytorch_workflow_model_1.pth\n"
     ]
    }
   ],
   "source": [
    "# Create model save path\n",
    "MODEL_SAVE_PATH = 'models/01_pytorch_workflow_model_1.pth'\n",
    "\n",
    "# Save the model save path\n",
    "torch.save(model.state_dict(),\n",
    "          MODEL_SAVE_PATH)\n",
    "print(f\"Saving model to: {MODEL_SAVE_PATH}\")"
   ]
  },
  {
   "cell_type": "code",
   "execution_count": 52,
   "id": "e95398d6-30a2-4f97-a04a-dbb072dac33d",
   "metadata": {},
   "outputs": [
    {
     "name": "stdout",
     "output_type": "stream",
     "text": [
      "Loaded model:\n",
      "LinearRegressionModel(\n",
      "  (linear_layer): Linear(in_features=1, out_features=1, bias=True)\n",
      ")\n",
      "Model on device:\n",
      "cuda:0\n"
     ]
    }
   ],
   "source": [
    "# Load the model\n",
    "MODEL_SAVE_PATH = 'models/01_pytorch_workflow_model_1.pth'\n",
    "loaded_model = LinearRegressionModel().to(device)\n",
    "\n",
    "loaded_model.load_state_dict(torch.load(MODEL_SAVE_PATH))\n",
    "loaded_model.to(device)\n",
    "\n",
    "print(f\"Loaded model:\\n{loaded_model}\")\n",
    "print(f\"Model on device:\\n{next(loaded_model.parameters()).device}\")"
   ]
  },
  {
   "cell_type": "code",
   "execution_count": 53,
   "id": "3ff0857f-e18e-44f2-b42f-fc79b467c440",
   "metadata": {},
   "outputs": [
    {
     "data": {
      "text/plain": [
       "tensor([[True],\n",
       "        [True],\n",
       "        [True],\n",
       "        [True],\n",
       "        [True],\n",
       "        [True],\n",
       "        [True],\n",
       "        [True],\n",
       "        [True],\n",
       "        [True]], device='cuda:0')"
      ]
     },
     "execution_count": 53,
     "metadata": {},
     "output_type": "execute_result"
    }
   ],
   "source": [
    "# Evaluate loaded model\n",
    "loaded_model.eval()\n",
    "with torch.inference_mode():\n",
    "    loadeded_model_preds = loaded_model(X_test)\n",
    "y_preds == loadeded_model_preds"
   ]
  },
  {
   "cell_type": "code",
   "execution_count": null,
   "id": "b270ff28-7570-47cb-bba7-cd283b0eec21",
   "metadata": {},
   "outputs": [],
   "source": []
  }
 ],
 "metadata": {
  "kernelspec": {
   "display_name": "Python 3 (ipykernel)",
   "language": "python",
   "name": "python3"
  },
  "language_info": {
   "codemirror_mode": {
    "name": "ipython",
    "version": 3
   },
   "file_extension": ".py",
   "mimetype": "text/x-python",
   "name": "python",
   "nbconvert_exporter": "python",
   "pygments_lexer": "ipython3",
   "version": "3.10.11"
  }
 },
 "nbformat": 4,
 "nbformat_minor": 5
}
